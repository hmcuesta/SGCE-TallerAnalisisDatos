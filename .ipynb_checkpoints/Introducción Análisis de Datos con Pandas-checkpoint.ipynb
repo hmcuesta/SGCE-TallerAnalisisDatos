{
 "cells": [
  {
   "cell_type": "code",
   "execution_count": 2,
   "metadata": {
    "collapsed": false
   },
   "outputs": [
    {
     "name": "stdout",
     "output_type": "stream",
     "text": [
      "0    10\n",
      "1    11\n",
      "2    12\n",
      "3    13\n",
      "4    14\n",
      "5    15\n",
      "dtype: int64\n"
     ]
    }
   ],
   "source": [
    "import pandas as pd\n",
    "import numpy as np\n",
    "serie = pd.Series(np.arange(10,16))\n",
    "print serie"
   ]
  },
  {
   "cell_type": "code",
   "execution_count": 3,
   "metadata": {
    "collapsed": false
   },
   "outputs": [
    {
     "data": {
      "text/plain": [
       "<matplotlib.axes.AxesSubplot at 0x1076be9d0>"
      ]
     },
     "execution_count": 3,
     "metadata": {},
     "output_type": "execute_result"
    },
    {
     "data": {
      "image/png": "[encoded data removed]",
      "text/plain": [
       "<matplotlib.figure.Figure at 0x103ec43d0>"
      ]
     },
     "metadata": {},
     "output_type": "display_data"
    }
   ],
   "source": [
    "import matplotlib.pyplot as plt\n",
    "%matplotlib inline\n",
    "serie.plot()"
   ]
  },
  {
   "cell_type": "code",
   "execution_count": 3,
   "metadata": {
    "collapsed": false
   },
   "outputs": [
    {
     "data": {
      "text/plain": [
       "<matplotlib.axes.AxesSubplot at 0x107831b50>"
      ]
     },
     "execution_count": 3,
     "metadata": {},
     "output_type": "execute_result"
    },
    {
     "data": {
      "image/png": "[encoded data removed]",
      "text/plain": [
       "<matplotlib.figure.Figure at 0x1078ad8d0>"
      ]
     },
     "metadata": {},
     "output_type": "display_data"
    }
   ],
   "source": [
    "#Serie de Tiempo\n",
    "ts = pd.read_csv('Gold.csv', index_col=0, parse_dates=True)\n",
    "ts.plot()"
   ]
  },
  {
   "cell_type": "code",
   "execution_count": 4,
   "metadata": {
    "collapsed": false
   },
   "outputs": [
    {
     "name": "stdout",
     "output_type": "stream",
     "text": [
      "            price\n",
      "date             \n",
      "2003-01-31  367.5\n",
      "2003-02-28  347.5\n",
      "2003-03-31  334.9\n",
      "2003-04-30  336.8\n",
      "2003-05-30  361.4\n",
      "             price\n",
      "date              \n",
      "2013-01-31  1664.8\n",
      "2013-02-28  1588.5\n",
      "2013-03-29  1598.3\n",
      "2013-04-30  1469.0\n",
      "2013-05-31  1394.5\n"
     ]
    }
   ],
   "source": [
    "print ts.head()\n",
    "print ts.tail()"
   ]
  },
  {
   "cell_type": "code",
   "execution_count": 5,
   "metadata": {
    "collapsed": false
   },
   "outputs": [
    {
     "data": {
      "text/html": [
       "<div style=\"max-height:1000px;max-width:1500px;overflow:auto;\">\n",
       "<table border=\"1\" class=\"dataframe\">\n",
       "  <thead>\n",
       "    <tr style=\"text-align: right;\">\n",
       "      <th></th>\n",
       "      <th>price</th>\n",
       "    </tr>\n",
       "  </thead>\n",
       "  <tbody>\n",
       "    <tr>\n",
       "      <th>count</th>\n",
       "      <td>  125.000000</td>\n",
       "    </tr>\n",
       "    <tr>\n",
       "      <th>mean</th>\n",
       "      <td>  914.626400</td>\n",
       "    </tr>\n",
       "    <tr>\n",
       "      <th>std</th>\n",
       "      <td>  465.694703</td>\n",
       "    </tr>\n",
       "    <tr>\n",
       "      <th>min</th>\n",
       "      <td>  334.900000</td>\n",
       "    </tr>\n",
       "    <tr>\n",
       "      <th>25%</th>\n",
       "      <td>  453.400000</td>\n",
       "    </tr>\n",
       "    <tr>\n",
       "      <th>50%</th>\n",
       "      <td>  833.800000</td>\n",
       "    </tr>\n",
       "    <tr>\n",
       "      <th>75%</th>\n",
       "      <td> 1327.000000</td>\n",
       "    </tr>\n",
       "    <tr>\n",
       "      <th>max</th>\n",
       "      <td> 1813.500000</td>\n",
       "    </tr>\n",
       "  </tbody>\n",
       "</table>\n",
       "</div>"
      ],
      "text/plain": [
       "             price\n",
       "count   125.000000\n",
       "mean    914.626400\n",
       "std     465.694703\n",
       "min     334.900000\n",
       "25%     453.400000\n",
       "50%     833.800000\n",
       "75%    1327.000000\n",
       "max    1813.500000"
      ]
     },
     "execution_count": 5,
     "metadata": {},
     "output_type": "execute_result"
    }
   ],
   "source": [
    "ts.describe()"
   ]
  },
  {
   "cell_type": "code",
   "execution_count": 6,
   "metadata": {
    "collapsed": false
   },
   "outputs": [
    {
     "data": {
      "text/plain": [
       "price    465.694703\n",
       "dtype: float64"
      ]
     },
     "execution_count": 6,
     "metadata": {},
     "output_type": "execute_result"
    }
   ],
   "source": [
    "ts.std()"
   ]
  },
  {
   "cell_type": "code",
   "execution_count": 7,
   "metadata": {
    "collapsed": false
   },
   "outputs": [
    {
     "data": {
      "text/html": [
       "<div style=\"max-height:1000px;max-width:1500px;overflow:auto;\">\n",
       "<table border=\"1\" class=\"dataframe\">\n",
       "  <thead>\n",
       "    <tr style=\"text-align: right;\">\n",
       "      <th></th>\n",
       "      <th>price</th>\n",
       "    </tr>\n",
       "    <tr>\n",
       "      <th>date</th>\n",
       "      <th></th>\n",
       "    </tr>\n",
       "  </thead>\n",
       "  <tbody>\n",
       "    <tr>\n",
       "      <th>2006-01-31</th>\n",
       "      <td> 568.8</td>\n",
       "    </tr>\n",
       "    <tr>\n",
       "      <th>2006-02-28</th>\n",
       "      <td> 556.0</td>\n",
       "    </tr>\n",
       "    <tr>\n",
       "      <th>2006-03-31</th>\n",
       "      <td> 582.0</td>\n",
       "    </tr>\n",
       "    <tr>\n",
       "      <th>2006-04-28</th>\n",
       "      <td> 644.0</td>\n",
       "    </tr>\n",
       "    <tr>\n",
       "      <th>2006-05-31</th>\n",
       "      <td> 653.0</td>\n",
       "    </tr>\n",
       "    <tr>\n",
       "      <th>2006-06-30</th>\n",
       "      <td> 613.5</td>\n",
       "    </tr>\n",
       "    <tr>\n",
       "      <th>2006-07-31</th>\n",
       "      <td> 632.5</td>\n",
       "    </tr>\n",
       "    <tr>\n",
       "      <th>2006-08-31</th>\n",
       "      <td> 623.5</td>\n",
       "    </tr>\n",
       "    <tr>\n",
       "      <th>2006-09-29</th>\n",
       "      <td> 599.3</td>\n",
       "    </tr>\n",
       "    <tr>\n",
       "      <th>2006-10-31</th>\n",
       "      <td> 603.8</td>\n",
       "    </tr>\n",
       "    <tr>\n",
       "      <th>2006-11-30</th>\n",
       "      <td> 646.7</td>\n",
       "    </tr>\n",
       "    <tr>\n",
       "      <th>2006-12-29</th>\n",
       "      <td> 632.0</td>\n",
       "    </tr>\n",
       "    <tr>\n",
       "      <th>2007-01-31</th>\n",
       "      <td> 650.5</td>\n",
       "    </tr>\n",
       "    <tr>\n",
       "      <th>2007-02-28</th>\n",
       "      <td> 664.2</td>\n",
       "    </tr>\n",
       "    <tr>\n",
       "      <th>2007-03-30</th>\n",
       "      <td> 661.8</td>\n",
       "    </tr>\n",
       "    <tr>\n",
       "      <th>2007-04-30</th>\n",
       "      <td> 677.0</td>\n",
       "    </tr>\n",
       "    <tr>\n",
       "      <th>2007-05-31</th>\n",
       "      <td> 659.1</td>\n",
       "    </tr>\n",
       "    <tr>\n",
       "      <th>2007-06-29</th>\n",
       "      <td> 650.5</td>\n",
       "    </tr>\n",
       "    <tr>\n",
       "      <th>2007-07-31</th>\n",
       "      <td> 665.5</td>\n",
       "    </tr>\n",
       "    <tr>\n",
       "      <th>2007-08-31</th>\n",
       "      <td> 672.0</td>\n",
       "    </tr>\n",
       "    <tr>\n",
       "      <th>2007-09-28</th>\n",
       "      <td> 743.0</td>\n",
       "    </tr>\n",
       "    <tr>\n",
       "      <th>2007-10-31</th>\n",
       "      <td> 789.5</td>\n",
       "    </tr>\n",
       "    <tr>\n",
       "      <th>2007-11-30</th>\n",
       "      <td> 783.5</td>\n",
       "    </tr>\n",
       "    <tr>\n",
       "      <th>2007-12-31</th>\n",
       "      <td> 833.8</td>\n",
       "    </tr>\n",
       "  </tbody>\n",
       "</table>\n",
       "</div>"
      ],
      "text/plain": [
       "            price\n",
       "date             \n",
       "2006-01-31  568.8\n",
       "2006-02-28  556.0\n",
       "2006-03-31  582.0\n",
       "2006-04-28  644.0\n",
       "2006-05-31  653.0\n",
       "2006-06-30  613.5\n",
       "2006-07-31  632.5\n",
       "2006-08-31  623.5\n",
       "2006-09-29  599.3\n",
       "2006-10-31  603.8\n",
       "2006-11-30  646.7\n",
       "2006-12-29  632.0\n",
       "2007-01-31  650.5\n",
       "2007-02-28  664.2\n",
       "2007-03-30  661.8\n",
       "2007-04-30  677.0\n",
       "2007-05-31  659.1\n",
       "2007-06-29  650.5\n",
       "2007-07-31  665.5\n",
       "2007-08-31  672.0\n",
       "2007-09-28  743.0\n",
       "2007-10-31  789.5\n",
       "2007-11-30  783.5\n",
       "2007-12-31  833.8"
      ]
     },
     "execution_count": 7,
     "metadata": {},
     "output_type": "execute_result"
    }
   ],
   "source": [
    "ts[\"2006\":\"2007\"]"
   ]
  },
  {
   "cell_type": "code",
   "execution_count": 8,
   "metadata": {
    "collapsed": false
   },
   "outputs": [
    {
     "data": {
      "text/html": [
       "<div style=\"max-height:1000px;max-width:1500px;overflow:auto;\">\n",
       "<table border=\"1\" class=\"dataframe\">\n",
       "  <thead>\n",
       "    <tr style=\"text-align: right;\">\n",
       "      <th></th>\n",
       "      <th>price</th>\n",
       "    </tr>\n",
       "    <tr>\n",
       "      <th>date</th>\n",
       "      <th></th>\n",
       "    </tr>\n",
       "  </thead>\n",
       "  <tbody>\n",
       "    <tr>\n",
       "      <th>2003-12-31</th>\n",
       "      <td>  367.791667</td>\n",
       "    </tr>\n",
       "    <tr>\n",
       "      <th>2004-12-31</th>\n",
       "      <td>  410.500000</td>\n",
       "    </tr>\n",
       "    <tr>\n",
       "      <th>2005-12-31</th>\n",
       "      <td>  448.966667</td>\n",
       "    </tr>\n",
       "    <tr>\n",
       "      <th>2006-12-31</th>\n",
       "      <td>  612.925000</td>\n",
       "    </tr>\n",
       "    <tr>\n",
       "      <th>2007-12-31</th>\n",
       "      <td>  704.200000</td>\n",
       "    </tr>\n",
       "    <tr>\n",
       "      <th>2008-12-31</th>\n",
       "      <td>  880.500000</td>\n",
       "    </tr>\n",
       "    <tr>\n",
       "      <th>2009-12-31</th>\n",
       "      <td>  981.241667</td>\n",
       "    </tr>\n",
       "    <tr>\n",
       "      <th>2010-12-31</th>\n",
       "      <td> 1232.575000</td>\n",
       "    </tr>\n",
       "    <tr>\n",
       "      <th>2011-12-31</th>\n",
       "      <td> 1567.958333</td>\n",
       "    </tr>\n",
       "    <tr>\n",
       "      <th>2012-12-31</th>\n",
       "      <td> 1677.775000</td>\n",
       "    </tr>\n",
       "    <tr>\n",
       "      <th>2013-12-31</th>\n",
       "      <td> 1543.020000</td>\n",
       "    </tr>\n",
       "  </tbody>\n",
       "</table>\n",
       "</div>"
      ],
      "text/plain": [
       "                  price\n",
       "date                   \n",
       "2003-12-31   367.791667\n",
       "2004-12-31   410.500000\n",
       "2005-12-31   448.966667\n",
       "2006-12-31   612.925000\n",
       "2007-12-31   704.200000\n",
       "2008-12-31   880.500000\n",
       "2009-12-31   981.241667\n",
       "2010-12-31  1232.575000\n",
       "2011-12-31  1567.958333\n",
       "2012-12-31  1677.775000\n",
       "2013-12-31  1543.020000"
      ]
     },
     "execution_count": 8,
     "metadata": {},
     "output_type": "execute_result"
    }
   ],
   "source": [
    "ts_res = ts.resample(\"A\")\n",
    "ts_res"
   ]
  },
  {
   "cell_type": "code",
   "execution_count": 9,
   "metadata": {
    "collapsed": false
   },
   "outputs": [
    {
     "data": {
      "text/plain": [
       "<matplotlib.axes.AxesSubplot at 0x107ab4290>"
      ]
     },
     "execution_count": 9,
     "metadata": {},
     "output_type": "execute_result"
    },
    {
     "data": {
      "image/png": "[encoded data removed]",
      "text/plain": [
       "<matplotlib.figure.Figure at 0x107c4ec10>"
      ]
     },
     "metadata": {},
     "output_type": "display_data"
    }
   ],
   "source": [
    "ts_res.plot(style='g--')"
   ]
  },
  {
   "cell_type": "code",
   "execution_count": 10,
   "metadata": {
    "collapsed": false
   },
   "outputs": [
    {
     "data": {
      "text/plain": [
       "<matplotlib.axes.AxesSubplot at 0x108204b90>"
      ]
     },
     "execution_count": 10,
     "metadata": {},
     "output_type": "execute_result"
    },
    {
     "data": {
      "image/png": "[encoded data removed]",
      "text/plain": [
       "<matplotlib.figure.Figure at 0x10308de10>"
      ]
     },
     "metadata": {},
     "output_type": "display_data"
    },
    {
     "data": {
      "image/png": "[encoded data removed]",
      "text/plain": [
       "<matplotlib.figure.Figure at 0x107840c90>"
      ]
     },
     "metadata": {},
     "output_type": "display_data"
    }
   ],
   "source": [
    "ts_res = ts.resample(\"A\", how=[\"mean\", np.max, np.min])\n",
    "ts_res.plot(subplots=True)\n",
    "ts_res.plot()"
   ]
  },
  {
   "cell_type": "code",
   "execution_count": 11,
   "metadata": {
    "collapsed": false
   },
   "outputs": [
    {
     "data": {
      "text/plain": [
       "<matplotlib.axes.AxesSubplot at 0x1085683d0>"
      ]
     },
     "execution_count": 11,
     "metadata": {},
     "output_type": "execute_result"
    },
    {
     "data": {
      "image/png": "[encoded data removed]",
      "text/plain": [
       "<matplotlib.figure.Figure at 0x107aa18d0>"
      ]
     },
     "metadata": {},
     "output_type": "display_data"
    }
   ],
   "source": [
    "mts = pd.read_csv('multiLine.csv',\n",
    "                  index_col=0, \n",
    "                  parse_dates=True)\n",
    "mts.plot()"
   ]
  },
  {
   "cell_type": "code",
   "execution_count": 12,
   "metadata": {
    "collapsed": false
   },
   "outputs": [
    {
     "name": "stdout",
     "output_type": "stream",
     "text": [
      "               USD     EUR     GBP\n",
      "date                              \n",
      "2013-03-10  1.0284  0.7675  0.6651\n",
      "2013-03-03  1.0254  0.7630  0.6609\n",
      "2013-02-24  1.0140  0.7521  0.6512\n",
      "2013-02-17  1.0035  0.7468  0.6402\n",
      "2013-02-10  0.9979  0.7402  0.6361\n"
     ]
    }
   ],
   "source": [
    "print mts.head()"
   ]
  },
  {
   "cell_type": "code",
   "execution_count": 13,
   "metadata": {
    "collapsed": false
   },
   "outputs": [
    {
     "data": {
      "text/html": [
       "<div style=\"max-height:1000px;max-width:1500px;overflow:auto;\">\n",
       "<table border=\"1\" class=\"dataframe\">\n",
       "  <thead>\n",
       "    <tr style=\"text-align: right;\">\n",
       "      <th></th>\n",
       "      <th>USD</th>\n",
       "      <th>EUR</th>\n",
       "      <th>GBP</th>\n",
       "    </tr>\n",
       "  </thead>\n",
       "  <tbody>\n",
       "    <tr>\n",
       "      <th>USD</th>\n",
       "      <td> 1.000000</td>\n",
       "      <td> 0.160608</td>\n",
       "      <td> 0.371445</td>\n",
       "    </tr>\n",
       "    <tr>\n",
       "      <th>EUR</th>\n",
       "      <td> 0.160608</td>\n",
       "      <td> 1.000000</td>\n",
       "      <td> 0.771165</td>\n",
       "    </tr>\n",
       "    <tr>\n",
       "      <th>GBP</th>\n",
       "      <td> 0.371445</td>\n",
       "      <td> 0.771165</td>\n",
       "      <td> 1.000000</td>\n",
       "    </tr>\n",
       "  </tbody>\n",
       "</table>\n",
       "</div>"
      ],
      "text/plain": [
       "          USD       EUR       GBP\n",
       "USD  1.000000  0.160608  0.371445\n",
       "EUR  0.160608  1.000000  0.771165\n",
       "GBP  0.371445  0.771165  1.000000"
      ]
     },
     "execution_count": 13,
     "metadata": {},
     "output_type": "execute_result"
    }
   ],
   "source": [
    "mts.corr()"
   ]
  },
  {
   "cell_type": "code",
   "execution_count": 14,
   "metadata": {
    "collapsed": false
   },
   "outputs": [
    {
     "name": "stdout",
     "output_type": "stream",
     "text": [
      "            price\n",
      "date             \n",
      "2003-01-31  367.5\n",
      "2003-02-28  347.5\n",
      "2003-03-31  334.9\n",
      "2003-04-30  336.8\n",
      "2003-05-30  361.4\n",
      "               price\n",
      "date                \n",
      "2003-01-31  0.066292\n",
      "2003-02-28  0.937990\n",
      "2003-03-31  0.949115\n",
      "2003-04-30 -0.604857\n",
      "2003-05-30 -0.116579\n"
     ]
    }
   ],
   "source": [
    "print ts[:5]\n",
    "print np.sin(ts[:5])"
   ]
  },
  {
   "cell_type": "code",
   "execution_count": 15,
   "metadata": {
    "collapsed": false
   },
   "outputs": [
    {
     "name": "stdout",
     "output_type": "stream",
     "text": [
      "date\n",
      "2013-03-10    1.0284\n",
      "2013-03-03    1.0254\n",
      "2013-02-24    1.0140\n",
      "2013-02-17    1.0035\n",
      "2013-02-10    0.9979\n",
      "2013-02-03    1.0023\n",
      "2013-01-27    0.9973\n",
      "2013-01-20    0.9864\n",
      "2013-01-13    0.9859\n",
      "2013-01-06    0.9907\n",
      "2012-12-30    0.9934\n",
      "2012-12-23    0.9877\n",
      "2012-12-16    0.9860\n",
      "2012-12-09    0.9920\n",
      "2012-12-02    0.9931\n",
      "...\n",
      "2008-06-29    1.0128\n",
      "2008-06-22    1.0204\n",
      "2008-06-15    1.0230\n",
      "2008-06-08    1.0080\n",
      "2008-06-01    0.9909\n",
      "2008-05-25    0.9907\n",
      "2008-05-18    1.0028\n",
      "2008-05-11    1.0109\n",
      "2008-05-04    1.0140\n",
      "2008-04-27    1.0105\n",
      "2008-04-20    1.0133\n",
      "2008-04-13    1.0157\n",
      "2008-04-06    1.0168\n",
      "2008-03-30    1.0197\n",
      "2008-03-23    1.0053\n",
      "Name: USD, Length: 260\n"
     ]
    }
   ],
   "source": [
    "print mts[\"USD\"]"
   ]
  },
  {
   "cell_type": "code",
   "execution_count": 16,
   "metadata": {
    "collapsed": false
   },
   "outputs": [
    {
     "data": {
      "text/plain": [
       "date\n",
       "2013-03-10    1.0284\n",
       "2013-03-03    1.0254\n",
       "2013-02-24    1.0140\n",
       "2013-02-17    1.0035\n",
       "2013-02-10    0.9979\n",
       "Name: USD, dtype: float64"
      ]
     },
     "execution_count": 16,
     "metadata": {},
     "output_type": "execute_result"
    }
   ],
   "source": [
    "mts[\"USD\"][:5] "
   ]
  },
  {
   "cell_type": "code",
   "execution_count": 17,
   "metadata": {
    "collapsed": false
   },
   "outputs": [
    {
     "name": "stdout",
     "output_type": "stream",
     "text": [
      "date\n",
      "2013-03-10    1.659223\n",
      "2013-03-03    1.648020\n",
      "2013-02-24    1.606437\n",
      "2013-02-17    1.569463\n",
      "2013-02-10    1.550238\n",
      "Name: USD, dtype: float64\n"
     ]
    }
   ],
   "source": [
    "print np.tan(mts[\"USD\"][:5])"
   ]
  },
  {
   "cell_type": "code",
   "execution_count": 18,
   "metadata": {
    "collapsed": false
   },
   "outputs": [
    {
     "data": {
      "text/html": [
       "<div style=\"max-height:1000px;max-width:1500px;overflow:auto;\">\n",
       "<table border=\"1\" class=\"dataframe\">\n",
       "  <thead>\n",
       "    <tr style=\"text-align: right;\">\n",
       "      <th></th>\n",
       "      <th>USD</th>\n",
       "      <th>EUR</th>\n",
       "      <th>GBP</th>\n",
       "    </tr>\n",
       "    <tr>\n",
       "      <th>date</th>\n",
       "      <th></th>\n",
       "      <th></th>\n",
       "      <th></th>\n",
       "    </tr>\n",
       "  </thead>\n",
       "  <tbody>\n",
       "    <tr>\n",
       "      <th>2013-03-10</th>\n",
       "      <td> 1.0284</td>\n",
       "      <td> 0.7675</td>\n",
       "      <td> 0.6651</td>\n",
       "    </tr>\n",
       "    <tr>\n",
       "      <th>2013-03-03</th>\n",
       "      <td> 1.0254</td>\n",
       "      <td> 0.7630</td>\n",
       "      <td> 0.6609</td>\n",
       "    </tr>\n",
       "    <tr>\n",
       "      <th>2013-02-24</th>\n",
       "      <td> 1.0140</td>\n",
       "      <td> 0.7521</td>\n",
       "      <td> 0.6512</td>\n",
       "    </tr>\n",
       "    <tr>\n",
       "      <th>2013-02-17</th>\n",
       "      <td> 1.0035</td>\n",
       "      <td> 0.7468</td>\n",
       "      <td> 0.6402</td>\n",
       "    </tr>\n",
       "    <tr>\n",
       "      <th>2013-02-10</th>\n",
       "      <td> 0.9979</td>\n",
       "      <td> 0.7402</td>\n",
       "      <td> 0.6361</td>\n",
       "    </tr>\n",
       "    <tr>\n",
       "      <th>2013-02-03</th>\n",
       "      <td> 1.0023</td>\n",
       "      <td> 0.7388</td>\n",
       "      <td> 0.6342</td>\n",
       "    </tr>\n",
       "    <tr>\n",
       "      <th>2013-01-27</th>\n",
       "      <td> 0.9973</td>\n",
       "      <td> 0.7488</td>\n",
       "      <td> 0.6315</td>\n",
       "    </tr>\n",
       "    <tr>\n",
       "      <th>2013-01-20</th>\n",
       "      <td> 0.9864</td>\n",
       "      <td> 0.7498</td>\n",
       "      <td> 0.6241</td>\n",
       "    </tr>\n",
       "    <tr>\n",
       "      <th>2013-01-13</th>\n",
       "      <td> 0.9859</td>\n",
       "      <td> 0.7604</td>\n",
       "      <td> 0.6217</td>\n",
       "    </tr>\n",
       "    <tr>\n",
       "      <th>2013-01-06</th>\n",
       "      <td> 0.9907</td>\n",
       "      <td> 0.7601</td>\n",
       "      <td> 0.6183</td>\n",
       "    </tr>\n",
       "    <tr>\n",
       "      <th>2012-12-30</th>\n",
       "      <td> 0.9934</td>\n",
       "      <td> 0.7571</td>\n",
       "      <td> 0.6193</td>\n",
       "    </tr>\n",
       "    <tr>\n",
       "      <th>2012-12-23</th>\n",
       "      <td> 0.9877</td>\n",
       "      <td> 0.7577</td>\n",
       "      <td> 0.6166</td>\n",
       "    </tr>\n",
       "    <tr>\n",
       "      <th>2012-12-16</th>\n",
       "      <td> 0.9860</td>\n",
       "      <td> 0.7678</td>\n",
       "      <td> 0.6208</td>\n",
       "    </tr>\n",
       "    <tr>\n",
       "      <th>2012-12-09</th>\n",
       "      <td> 0.9920</td>\n",
       "      <td> 0.7684</td>\n",
       "      <td> 0.6225</td>\n",
       "    </tr>\n",
       "    <tr>\n",
       "      <th>2012-12-02</th>\n",
       "      <td> 0.9931</td>\n",
       "      <td> 0.7711</td>\n",
       "      <td> 0.6241</td>\n",
       "    </tr>\n",
       "    <tr>\n",
       "      <th>2012-11-25</th>\n",
       "      <td> 0.9971</td>\n",
       "      <td> 0.7790</td>\n",
       "      <td> 0.6273</td>\n",
       "    </tr>\n",
       "    <tr>\n",
       "      <th>2012-11-18</th>\n",
       "      <td> 1.0011</td>\n",
       "      <td> 0.7856</td>\n",
       "      <td> 0.6298</td>\n",
       "    </tr>\n",
       "    <tr>\n",
       "      <th>2012-11-11</th>\n",
       "      <td> 0.9967</td>\n",
       "      <td> 0.7825</td>\n",
       "      <td> 0.6259</td>\n",
       "    </tr>\n",
       "    <tr>\n",
       "      <th>2012-11-04</th>\n",
       "      <td> 0.9981</td>\n",
       "      <td> 0.7739</td>\n",
       "      <td> 0.6218</td>\n",
       "    </tr>\n",
       "    <tr>\n",
       "      <th>2012-10-28</th>\n",
       "      <td> 0.9940</td>\n",
       "      <td> 0.7700</td>\n",
       "      <td> 0.6233</td>\n",
       "    </tr>\n",
       "    <tr>\n",
       "      <th>2012-10-21</th>\n",
       "      <td> 0.9838</td>\n",
       "      <td> 0.7676</td>\n",
       "      <td> 0.6219</td>\n",
       "    </tr>\n",
       "    <tr>\n",
       "      <th>2012-10-14</th>\n",
       "      <td> 0.9785</td>\n",
       "      <td> 0.7723</td>\n",
       "      <td> 0.6228</td>\n",
       "    </tr>\n",
       "    <tr>\n",
       "      <th>2012-10-07</th>\n",
       "      <td> 0.9824</td>\n",
       "      <td> 0.7729</td>\n",
       "      <td> 0.6194</td>\n",
       "    </tr>\n",
       "    <tr>\n",
       "      <th>2012-09-30</th>\n",
       "      <td> 0.9804</td>\n",
       "      <td> 0.7746</td>\n",
       "      <td> 0.6171</td>\n",
       "    </tr>\n",
       "    <tr>\n",
       "      <th>2012-09-23</th>\n",
       "      <td> 0.9744</td>\n",
       "      <td> 0.7664</td>\n",
       "      <td> 0.6161</td>\n",
       "    </tr>\n",
       "    <tr>\n",
       "      <th>2012-09-16</th>\n",
       "      <td> 0.9740</td>\n",
       "      <td> 0.7744</td>\n",
       "      <td> 0.6213</td>\n",
       "    </tr>\n",
       "    <tr>\n",
       "      <th>2012-09-09</th>\n",
       "      <td> 0.9847</td>\n",
       "      <td> 0.7915</td>\n",
       "      <td> 0.6283</td>\n",
       "    </tr>\n",
       "    <tr>\n",
       "      <th>2012-09-02</th>\n",
       "      <td> 0.9895</td>\n",
       "      <td> 0.7976</td>\n",
       "      <td> 0.6320</td>\n",
       "    </tr>\n",
       "    <tr>\n",
       "      <th>2012-08-26</th>\n",
       "      <td> 0.9903</td>\n",
       "      <td> 0.8032</td>\n",
       "      <td> 0.6336</td>\n",
       "    </tr>\n",
       "    <tr>\n",
       "      <th>2012-08-19</th>\n",
       "      <td> 0.9902</td>\n",
       "      <td> 0.8116</td>\n",
       "      <td> 0.6372</td>\n",
       "    </tr>\n",
       "    <tr>\n",
       "      <th>...</th>\n",
       "      <td>...</td>\n",
       "      <td>...</td>\n",
       "      <td>...</td>\n",
       "    </tr>\n",
       "    <tr>\n",
       "      <th>2008-10-12</th>\n",
       "      <td> 1.1227</td>\n",
       "      <td> 0.7354</td>\n",
       "      <td> 0.5760</td>\n",
       "    </tr>\n",
       "    <tr>\n",
       "      <th>2008-10-05</th>\n",
       "      <td> 1.0588</td>\n",
       "      <td> 0.7076</td>\n",
       "      <td> 0.5579</td>\n",
       "    </tr>\n",
       "    <tr>\n",
       "      <th>2008-09-28</th>\n",
       "      <td> 1.0374</td>\n",
       "      <td> 0.6837</td>\n",
       "      <td> 0.5418</td>\n",
       "    </tr>\n",
       "    <tr>\n",
       "      <th>2008-09-21</th>\n",
       "      <td> 1.0620</td>\n",
       "      <td> 0.6994</td>\n",
       "      <td> 0.5538</td>\n",
       "    </tr>\n",
       "    <tr>\n",
       "      <th>2008-09-14</th>\n",
       "      <td> 1.0661</td>\n",
       "      <td> 0.7067</td>\n",
       "      <td> 0.5656</td>\n",
       "    </tr>\n",
       "    <tr>\n",
       "      <th>2008-09-07</th>\n",
       "      <td> 1.0653</td>\n",
       "      <td> 0.6908</td>\n",
       "      <td> 0.5602</td>\n",
       "    </tr>\n",
       "    <tr>\n",
       "      <th>2008-08-31</th>\n",
       "      <td> 1.0507</td>\n",
       "      <td> 0.6791</td>\n",
       "      <td> 0.5439</td>\n",
       "    </tr>\n",
       "    <tr>\n",
       "      <th>2008-08-24</th>\n",
       "      <td> 1.0558</td>\n",
       "      <td> 0.6777</td>\n",
       "      <td> 0.5365</td>\n",
       "    </tr>\n",
       "    <tr>\n",
       "      <th>2008-08-17</th>\n",
       "      <td> 1.0645</td>\n",
       "      <td> 0.6723</td>\n",
       "      <td> 0.5292</td>\n",
       "    </tr>\n",
       "    <tr>\n",
       "      <th>2008-08-10</th>\n",
       "      <td> 1.0449</td>\n",
       "      <td> 0.6499</td>\n",
       "      <td> 0.5126</td>\n",
       "    </tr>\n",
       "    <tr>\n",
       "      <th>2008-08-03</th>\n",
       "      <td> 1.0232</td>\n",
       "      <td> 0.6397</td>\n",
       "      <td> 0.5042</td>\n",
       "    </tr>\n",
       "    <tr>\n",
       "      <th>2008-07-27</th>\n",
       "      <td> 1.0096</td>\n",
       "      <td> 0.6337</td>\n",
       "      <td> 0.5013</td>\n",
       "    </tr>\n",
       "    <tr>\n",
       "      <th>2008-07-20</th>\n",
       "      <td> 1.0048</td>\n",
       "      <td> 0.6294</td>\n",
       "      <td> 0.5007</td>\n",
       "    </tr>\n",
       "    <tr>\n",
       "      <th>2008-07-13</th>\n",
       "      <td> 1.0147</td>\n",
       "      <td> 0.6348</td>\n",
       "      <td> 0.5053</td>\n",
       "    </tr>\n",
       "    <tr>\n",
       "      <th>2008-07-06</th>\n",
       "      <td> 1.0159</td>\n",
       "      <td> 0.6340</td>\n",
       "      <td> 0.5025</td>\n",
       "    </tr>\n",
       "    <tr>\n",
       "      <th>2008-06-29</th>\n",
       "      <td> 1.0128</td>\n",
       "      <td> 0.6390</td>\n",
       "      <td> 0.5056</td>\n",
       "    </tr>\n",
       "    <tr>\n",
       "      <th>2008-06-22</th>\n",
       "      <td> 1.0204</td>\n",
       "      <td> 0.6448</td>\n",
       "      <td> 0.5096</td>\n",
       "    </tr>\n",
       "    <tr>\n",
       "      <th>2008-06-15</th>\n",
       "      <td> 1.0230</td>\n",
       "      <td> 0.6433</td>\n",
       "      <td> 0.5105</td>\n",
       "    </tr>\n",
       "    <tr>\n",
       "      <th>2008-06-08</th>\n",
       "      <td> 1.0080</td>\n",
       "      <td> 0.6426</td>\n",
       "      <td> 0.5087</td>\n",
       "    </tr>\n",
       "    <tr>\n",
       "      <th>2008-06-01</th>\n",
       "      <td> 0.9909</td>\n",
       "      <td> 0.6385</td>\n",
       "      <td> 0.5053</td>\n",
       "    </tr>\n",
       "    <tr>\n",
       "      <th>2008-05-25</th>\n",
       "      <td> 0.9907</td>\n",
       "      <td> 0.6380</td>\n",
       "      <td> 0.5082</td>\n",
       "    </tr>\n",
       "    <tr>\n",
       "      <th>2008-05-18</th>\n",
       "      <td> 1.0028</td>\n",
       "      <td> 0.6453</td>\n",
       "      <td> 0.5126</td>\n",
       "    </tr>\n",
       "    <tr>\n",
       "      <th>2008-05-11</th>\n",
       "      <td> 1.0109</td>\n",
       "      <td> 0.6471</td>\n",
       "      <td> 0.5094</td>\n",
       "    </tr>\n",
       "    <tr>\n",
       "      <th>2008-05-04</th>\n",
       "      <td> 1.0140</td>\n",
       "      <td> 0.6429</td>\n",
       "      <td> 0.5050</td>\n",
       "    </tr>\n",
       "    <tr>\n",
       "      <th>2008-04-27</th>\n",
       "      <td> 1.0105</td>\n",
       "      <td> 0.6328</td>\n",
       "      <td> 0.5034</td>\n",
       "    </tr>\n",
       "    <tr>\n",
       "      <th>2008-04-20</th>\n",
       "      <td> 1.0133</td>\n",
       "      <td> 0.6314</td>\n",
       "      <td> 0.5053</td>\n",
       "    </tr>\n",
       "    <tr>\n",
       "      <th>2008-04-13</th>\n",
       "      <td> 1.0157</td>\n",
       "      <td> 0.6343</td>\n",
       "      <td> 0.5054</td>\n",
       "    </tr>\n",
       "    <tr>\n",
       "      <th>2008-04-06</th>\n",
       "      <td> 1.0168</td>\n",
       "      <td> 0.6363</td>\n",
       "      <td> 0.5027</td>\n",
       "    </tr>\n",
       "    <tr>\n",
       "      <th>2008-03-30</th>\n",
       "      <td> 1.0197</td>\n",
       "      <td> 0.6397</td>\n",
       "      <td> 0.5013</td>\n",
       "    </tr>\n",
       "    <tr>\n",
       "      <th>2008-03-23</th>\n",
       "      <td> 1.0053</td>\n",
       "      <td> 0.6404</td>\n",
       "      <td> 0.5004</td>\n",
       "    </tr>\n",
       "  </tbody>\n",
       "</table>\n",
       "<p>260 rows × 3 columns</p>\n",
       "</div>"
      ],
      "text/plain": [
       "               USD     EUR     GBP\n",
       "date                              \n",
       "2013-03-10  1.0284  0.7675  0.6651\n",
       "2013-03-03  1.0254  0.7630  0.6609\n",
       "2013-02-24  1.0140  0.7521  0.6512\n",
       "2013-02-17  1.0035  0.7468  0.6402\n",
       "2013-02-10  0.9979  0.7402  0.6361\n",
       "2013-02-03  1.0023  0.7388  0.6342\n",
       "2013-01-27  0.9973  0.7488  0.6315\n",
       "2013-01-20  0.9864  0.7498  0.6241\n",
       "2013-01-13  0.9859  0.7604  0.6217\n",
       "2013-01-06  0.9907  0.7601  0.6183\n",
       "2012-12-30  0.9934  0.7571  0.6193\n",
       "2012-12-23  0.9877  0.7577  0.6166\n",
       "2012-12-16  0.9860  0.7678  0.6208\n",
       "2012-12-09  0.9920  0.7684  0.6225\n",
       "2012-12-02  0.9931  0.7711  0.6241\n",
       "2012-11-25  0.9971  0.7790  0.6273\n",
       "2012-11-18  1.0011  0.7856  0.6298\n",
       "2012-11-11  0.9967  0.7825  0.6259\n",
       "2012-11-04  0.9981  0.7739  0.6218\n",
       "2012-10-28  0.9940  0.7700  0.6233\n",
       "2012-10-21  0.9838  0.7676  0.6219\n",
       "2012-10-14  0.9785  0.7723  0.6228\n",
       "2012-10-07  0.9824  0.7729  0.6194\n",
       "2012-09-30  0.9804  0.7746  0.6171\n",
       "2012-09-23  0.9744  0.7664  0.6161\n",
       "2012-09-16  0.9740  0.7744  0.6213\n",
       "2012-09-09  0.9847  0.7915  0.6283\n",
       "2012-09-02  0.9895  0.7976  0.6320\n",
       "2012-08-26  0.9903  0.8032  0.6336\n",
       "2012-08-19  0.9902  0.8116  0.6372\n",
       "...            ...     ...     ...\n",
       "2008-10-12  1.1227  0.7354  0.5760\n",
       "2008-10-05  1.0588  0.7076  0.5579\n",
       "2008-09-28  1.0374  0.6837  0.5418\n",
       "2008-09-21  1.0620  0.6994  0.5538\n",
       "2008-09-14  1.0661  0.7067  0.5656\n",
       "2008-09-07  1.0653  0.6908  0.5602\n",
       "2008-08-31  1.0507  0.6791  0.5439\n",
       "2008-08-24  1.0558  0.6777  0.5365\n",
       "2008-08-17  1.0645  0.6723  0.5292\n",
       "2008-08-10  1.0449  0.6499  0.5126\n",
       "2008-08-03  1.0232  0.6397  0.5042\n",
       "2008-07-27  1.0096  0.6337  0.5013\n",
       "2008-07-20  1.0048  0.6294  0.5007\n",
       "2008-07-13  1.0147  0.6348  0.5053\n",
       "2008-07-06  1.0159  0.6340  0.5025\n",
       "2008-06-29  1.0128  0.6390  0.5056\n",
       "2008-06-22  1.0204  0.6448  0.5096\n",
       "2008-06-15  1.0230  0.6433  0.5105\n",
       "2008-06-08  1.0080  0.6426  0.5087\n",
       "2008-06-01  0.9909  0.6385  0.5053\n",
       "2008-05-25  0.9907  0.6380  0.5082\n",
       "2008-05-18  1.0028  0.6453  0.5126\n",
       "2008-05-11  1.0109  0.6471  0.5094\n",
       "2008-05-04  1.0140  0.6429  0.5050\n",
       "2008-04-27  1.0105  0.6328  0.5034\n",
       "2008-04-20  1.0133  0.6314  0.5053\n",
       "2008-04-13  1.0157  0.6343  0.5054\n",
       "2008-04-06  1.0168  0.6363  0.5027\n",
       "2008-03-30  1.0197  0.6397  0.5013\n",
       "2008-03-23  1.0053  0.6404  0.5004\n",
       "\n",
       "[260 rows x 3 columns]"
      ]
     },
     "execution_count": 18,
     "metadata": {},
     "output_type": "execute_result"
    }
   ],
   "source": [
    "mts.query(\"USD > 0.5 and EUR < 1\")"
   ]
  },
  {
   "cell_type": "code",
   "execution_count": 19,
   "metadata": {
    "collapsed": false
   },
   "outputs": [
    {
     "data": {
      "text/html": [
       "<div style=\"max-height:1000px;max-width:1500px;overflow:auto;\">\n",
       "<table border=\"1\" class=\"dataframe\">\n",
       "  <thead>\n",
       "    <tr style=\"text-align: right;\">\n",
       "      <th></th>\n",
       "      <th>USD</th>\n",
       "      <th>EUR</th>\n",
       "      <th>GBP</th>\n",
       "    </tr>\n",
       "    <tr>\n",
       "      <th>date</th>\n",
       "      <th></th>\n",
       "      <th></th>\n",
       "      <th></th>\n",
       "    </tr>\n",
       "  </thead>\n",
       "  <tbody>\n",
       "    <tr>\n",
       "      <th>2013-03-10</th>\n",
       "      <td> 1.0284</td>\n",
       "      <td> 0.7675</td>\n",
       "      <td> 0.6651</td>\n",
       "    </tr>\n",
       "    <tr>\n",
       "      <th>2013-03-03</th>\n",
       "      <td> 1.0254</td>\n",
       "      <td> 0.7630</td>\n",
       "      <td> 0.6609</td>\n",
       "    </tr>\n",
       "    <tr>\n",
       "      <th>2013-02-24</th>\n",
       "      <td> 1.0140</td>\n",
       "      <td> 0.7521</td>\n",
       "      <td> 0.6512</td>\n",
       "    </tr>\n",
       "    <tr>\n",
       "      <th>2013-02-17</th>\n",
       "      <td> 1.0035</td>\n",
       "      <td> 0.7468</td>\n",
       "      <td> 0.6402</td>\n",
       "    </tr>\n",
       "    <tr>\n",
       "      <th>2013-02-10</th>\n",
       "      <td> 0.9979</td>\n",
       "      <td> 0.7402</td>\n",
       "      <td> 0.6361</td>\n",
       "    </tr>\n",
       "    <tr>\n",
       "      <th>2013-02-03</th>\n",
       "      <td> 1.0023</td>\n",
       "      <td> 0.7388</td>\n",
       "      <td> 0.6342</td>\n",
       "    </tr>\n",
       "    <tr>\n",
       "      <th>2013-01-27</th>\n",
       "      <td> 0.9973</td>\n",
       "      <td> 0.7488</td>\n",
       "      <td> 0.6315</td>\n",
       "    </tr>\n",
       "    <tr>\n",
       "      <th>2013-01-20</th>\n",
       "      <td> 0.9864</td>\n",
       "      <td> 0.7498</td>\n",
       "      <td> 0.6241</td>\n",
       "    </tr>\n",
       "    <tr>\n",
       "      <th>2013-01-13</th>\n",
       "      <td> 0.9859</td>\n",
       "      <td> 0.7604</td>\n",
       "      <td> 0.6217</td>\n",
       "    </tr>\n",
       "    <tr>\n",
       "      <th>2013-01-06</th>\n",
       "      <td> 0.9907</td>\n",
       "      <td> 0.7601</td>\n",
       "      <td> 0.6183</td>\n",
       "    </tr>\n",
       "    <tr>\n",
       "      <th>2012-12-30</th>\n",
       "      <td> 0.9934</td>\n",
       "      <td> 0.7571</td>\n",
       "      <td> 0.6193</td>\n",
       "    </tr>\n",
       "    <tr>\n",
       "      <th>2012-12-23</th>\n",
       "      <td> 0.9877</td>\n",
       "      <td> 0.7577</td>\n",
       "      <td> 0.6166</td>\n",
       "    </tr>\n",
       "    <tr>\n",
       "      <th>2012-12-16</th>\n",
       "      <td> 0.9860</td>\n",
       "      <td> 0.7678</td>\n",
       "      <td> 0.6208</td>\n",
       "    </tr>\n",
       "    <tr>\n",
       "      <th>2012-12-09</th>\n",
       "      <td> 0.9920</td>\n",
       "      <td> 0.7684</td>\n",
       "      <td> 0.6225</td>\n",
       "    </tr>\n",
       "    <tr>\n",
       "      <th>2012-12-02</th>\n",
       "      <td> 0.9931</td>\n",
       "      <td> 0.7711</td>\n",
       "      <td> 0.6241</td>\n",
       "    </tr>\n",
       "    <tr>\n",
       "      <th>2012-11-25</th>\n",
       "      <td> 0.9971</td>\n",
       "      <td> 0.7790</td>\n",
       "      <td> 0.6273</td>\n",
       "    </tr>\n",
       "    <tr>\n",
       "      <th>2012-11-18</th>\n",
       "      <td> 1.0011</td>\n",
       "      <td> 0.7856</td>\n",
       "      <td> 0.6298</td>\n",
       "    </tr>\n",
       "    <tr>\n",
       "      <th>2012-11-11</th>\n",
       "      <td> 0.9967</td>\n",
       "      <td> 0.7825</td>\n",
       "      <td> 0.6259</td>\n",
       "    </tr>\n",
       "    <tr>\n",
       "      <th>2012-11-04</th>\n",
       "      <td> 0.9981</td>\n",
       "      <td> 0.7739</td>\n",
       "      <td> 0.6218</td>\n",
       "    </tr>\n",
       "    <tr>\n",
       "      <th>2012-10-28</th>\n",
       "      <td> 0.9940</td>\n",
       "      <td> 0.7700</td>\n",
       "      <td> 0.6233</td>\n",
       "    </tr>\n",
       "    <tr>\n",
       "      <th>2012-10-21</th>\n",
       "      <td> 0.9838</td>\n",
       "      <td> 0.7676</td>\n",
       "      <td> 0.6219</td>\n",
       "    </tr>\n",
       "    <tr>\n",
       "      <th>2012-10-14</th>\n",
       "      <td> 0.9785</td>\n",
       "      <td> 0.7723</td>\n",
       "      <td> 0.6228</td>\n",
       "    </tr>\n",
       "    <tr>\n",
       "      <th>2012-10-07</th>\n",
       "      <td> 0.9824</td>\n",
       "      <td> 0.7729</td>\n",
       "      <td> 0.6194</td>\n",
       "    </tr>\n",
       "    <tr>\n",
       "      <th>2012-09-30</th>\n",
       "      <td> 0.9804</td>\n",
       "      <td> 0.7746</td>\n",
       "      <td> 0.6171</td>\n",
       "    </tr>\n",
       "    <tr>\n",
       "      <th>2012-09-23</th>\n",
       "      <td> 0.9744</td>\n",
       "      <td> 0.7664</td>\n",
       "      <td> 0.6161</td>\n",
       "    </tr>\n",
       "    <tr>\n",
       "      <th>2012-09-16</th>\n",
       "      <td> 0.9740</td>\n",
       "      <td> 0.7744</td>\n",
       "      <td> 0.6213</td>\n",
       "    </tr>\n",
       "    <tr>\n",
       "      <th>2012-09-09</th>\n",
       "      <td> 0.9847</td>\n",
       "      <td> 0.7915</td>\n",
       "      <td> 0.6283</td>\n",
       "    </tr>\n",
       "    <tr>\n",
       "      <th>2012-09-02</th>\n",
       "      <td> 0.9895</td>\n",
       "      <td> 0.7976</td>\n",
       "      <td> 0.6320</td>\n",
       "    </tr>\n",
       "    <tr>\n",
       "      <th>2012-08-26</th>\n",
       "      <td> 0.9903</td>\n",
       "      <td> 0.8032</td>\n",
       "      <td> 0.6336</td>\n",
       "    </tr>\n",
       "    <tr>\n",
       "      <th>2012-08-19</th>\n",
       "      <td> 0.9902</td>\n",
       "      <td> 0.8116</td>\n",
       "      <td> 0.6372</td>\n",
       "    </tr>\n",
       "    <tr>\n",
       "      <th>...</th>\n",
       "      <td>...</td>\n",
       "      <td>...</td>\n",
       "      <td>...</td>\n",
       "    </tr>\n",
       "    <tr>\n",
       "      <th>2008-10-12</th>\n",
       "      <td> 1.1227</td>\n",
       "      <td> 0.7354</td>\n",
       "      <td> 0.5760</td>\n",
       "    </tr>\n",
       "    <tr>\n",
       "      <th>2008-10-05</th>\n",
       "      <td> 1.0588</td>\n",
       "      <td> 0.7076</td>\n",
       "      <td> 0.5579</td>\n",
       "    </tr>\n",
       "    <tr>\n",
       "      <th>2008-09-28</th>\n",
       "      <td> 1.0374</td>\n",
       "      <td> 0.6837</td>\n",
       "      <td> 0.5418</td>\n",
       "    </tr>\n",
       "    <tr>\n",
       "      <th>2008-09-21</th>\n",
       "      <td> 1.0620</td>\n",
       "      <td> 0.6994</td>\n",
       "      <td> 0.5538</td>\n",
       "    </tr>\n",
       "    <tr>\n",
       "      <th>2008-09-14</th>\n",
       "      <td> 1.0661</td>\n",
       "      <td> 0.7067</td>\n",
       "      <td> 0.5656</td>\n",
       "    </tr>\n",
       "    <tr>\n",
       "      <th>2008-09-07</th>\n",
       "      <td> 1.0653</td>\n",
       "      <td> 0.6908</td>\n",
       "      <td> 0.5602</td>\n",
       "    </tr>\n",
       "    <tr>\n",
       "      <th>2008-08-31</th>\n",
       "      <td> 1.0507</td>\n",
       "      <td> 0.6791</td>\n",
       "      <td> 0.5439</td>\n",
       "    </tr>\n",
       "    <tr>\n",
       "      <th>2008-08-24</th>\n",
       "      <td> 1.0558</td>\n",
       "      <td> 0.6777</td>\n",
       "      <td> 0.5365</td>\n",
       "    </tr>\n",
       "    <tr>\n",
       "      <th>2008-08-17</th>\n",
       "      <td> 1.0645</td>\n",
       "      <td> 0.6723</td>\n",
       "      <td> 0.5292</td>\n",
       "    </tr>\n",
       "    <tr>\n",
       "      <th>2008-08-10</th>\n",
       "      <td> 1.0449</td>\n",
       "      <td> 0.6499</td>\n",
       "      <td> 0.5126</td>\n",
       "    </tr>\n",
       "    <tr>\n",
       "      <th>2008-08-03</th>\n",
       "      <td> 1.0232</td>\n",
       "      <td> 0.6397</td>\n",
       "      <td> 0.5042</td>\n",
       "    </tr>\n",
       "    <tr>\n",
       "      <th>2008-07-27</th>\n",
       "      <td> 1.0096</td>\n",
       "      <td> 0.6337</td>\n",
       "      <td> 0.5013</td>\n",
       "    </tr>\n",
       "    <tr>\n",
       "      <th>2008-07-20</th>\n",
       "      <td> 1.0048</td>\n",
       "      <td> 0.6294</td>\n",
       "      <td> 0.5007</td>\n",
       "    </tr>\n",
       "    <tr>\n",
       "      <th>2008-07-13</th>\n",
       "      <td> 1.0147</td>\n",
       "      <td> 0.6348</td>\n",
       "      <td> 0.5053</td>\n",
       "    </tr>\n",
       "    <tr>\n",
       "      <th>2008-07-06</th>\n",
       "      <td> 1.0159</td>\n",
       "      <td> 0.6340</td>\n",
       "      <td> 0.5025</td>\n",
       "    </tr>\n",
       "    <tr>\n",
       "      <th>2008-06-29</th>\n",
       "      <td> 1.0128</td>\n",
       "      <td> 0.6390</td>\n",
       "      <td> 0.5056</td>\n",
       "    </tr>\n",
       "    <tr>\n",
       "      <th>2008-06-22</th>\n",
       "      <td> 1.0204</td>\n",
       "      <td> 0.6448</td>\n",
       "      <td> 0.5096</td>\n",
       "    </tr>\n",
       "    <tr>\n",
       "      <th>2008-06-15</th>\n",
       "      <td> 1.0230</td>\n",
       "      <td> 0.6433</td>\n",
       "      <td> 0.5105</td>\n",
       "    </tr>\n",
       "    <tr>\n",
       "      <th>2008-06-08</th>\n",
       "      <td> 1.0080</td>\n",
       "      <td> 0.6426</td>\n",
       "      <td> 0.5087</td>\n",
       "    </tr>\n",
       "    <tr>\n",
       "      <th>2008-06-01</th>\n",
       "      <td> 0.9909</td>\n",
       "      <td> 0.6385</td>\n",
       "      <td> 0.5053</td>\n",
       "    </tr>\n",
       "    <tr>\n",
       "      <th>2008-05-25</th>\n",
       "      <td> 0.9907</td>\n",
       "      <td> 0.6380</td>\n",
       "      <td> 0.5082</td>\n",
       "    </tr>\n",
       "    <tr>\n",
       "      <th>2008-05-18</th>\n",
       "      <td> 1.0028</td>\n",
       "      <td> 0.6453</td>\n",
       "      <td> 0.5126</td>\n",
       "    </tr>\n",
       "    <tr>\n",
       "      <th>2008-05-11</th>\n",
       "      <td> 1.0109</td>\n",
       "      <td> 0.6471</td>\n",
       "      <td> 0.5094</td>\n",
       "    </tr>\n",
       "    <tr>\n",
       "      <th>2008-05-04</th>\n",
       "      <td> 1.0140</td>\n",
       "      <td> 0.6429</td>\n",
       "      <td> 0.5050</td>\n",
       "    </tr>\n",
       "    <tr>\n",
       "      <th>2008-04-27</th>\n",
       "      <td> 1.0105</td>\n",
       "      <td> 0.6328</td>\n",
       "      <td> 0.5034</td>\n",
       "    </tr>\n",
       "    <tr>\n",
       "      <th>2008-04-20</th>\n",
       "      <td> 1.0133</td>\n",
       "      <td> 0.6314</td>\n",
       "      <td> 0.5053</td>\n",
       "    </tr>\n",
       "    <tr>\n",
       "      <th>2008-04-13</th>\n",
       "      <td> 1.0157</td>\n",
       "      <td> 0.6343</td>\n",
       "      <td> 0.5054</td>\n",
       "    </tr>\n",
       "    <tr>\n",
       "      <th>2008-04-06</th>\n",
       "      <td> 1.0168</td>\n",
       "      <td> 0.6363</td>\n",
       "      <td> 0.5027</td>\n",
       "    </tr>\n",
       "    <tr>\n",
       "      <th>2008-03-30</th>\n",
       "      <td> 1.0197</td>\n",
       "      <td> 0.6397</td>\n",
       "      <td> 0.5013</td>\n",
       "    </tr>\n",
       "    <tr>\n",
       "      <th>2008-03-23</th>\n",
       "      <td> 1.0053</td>\n",
       "      <td> 0.6404</td>\n",
       "      <td> 0.5004</td>\n",
       "    </tr>\n",
       "  </tbody>\n",
       "</table>\n",
       "<p>260 rows × 3 columns</p>\n",
       "</div>"
      ],
      "text/plain": [
       "               USD     EUR     GBP\n",
       "date                              \n",
       "2013-03-10  1.0284  0.7675  0.6651\n",
       "2013-03-03  1.0254  0.7630  0.6609\n",
       "2013-02-24  1.0140  0.7521  0.6512\n",
       "2013-02-17  1.0035  0.7468  0.6402\n",
       "2013-02-10  0.9979  0.7402  0.6361\n",
       "2013-02-03  1.0023  0.7388  0.6342\n",
       "2013-01-27  0.9973  0.7488  0.6315\n",
       "2013-01-20  0.9864  0.7498  0.6241\n",
       "2013-01-13  0.9859  0.7604  0.6217\n",
       "2013-01-06  0.9907  0.7601  0.6183\n",
       "2012-12-30  0.9934  0.7571  0.6193\n",
       "2012-12-23  0.9877  0.7577  0.6166\n",
       "2012-12-16  0.9860  0.7678  0.6208\n",
       "2012-12-09  0.9920  0.7684  0.6225\n",
       "2012-12-02  0.9931  0.7711  0.6241\n",
       "2012-11-25  0.9971  0.7790  0.6273\n",
       "2012-11-18  1.0011  0.7856  0.6298\n",
       "2012-11-11  0.9967  0.7825  0.6259\n",
       "2012-11-04  0.9981  0.7739  0.6218\n",
       "2012-10-28  0.9940  0.7700  0.6233\n",
       "2012-10-21  0.9838  0.7676  0.6219\n",
       "2012-10-14  0.9785  0.7723  0.6228\n",
       "2012-10-07  0.9824  0.7729  0.6194\n",
       "2012-09-30  0.9804  0.7746  0.6171\n",
       "2012-09-23  0.9744  0.7664  0.6161\n",
       "2012-09-16  0.9740  0.7744  0.6213\n",
       "2012-09-09  0.9847  0.7915  0.6283\n",
       "2012-09-02  0.9895  0.7976  0.6320\n",
       "2012-08-26  0.9903  0.8032  0.6336\n",
       "2012-08-19  0.9902  0.8116  0.6372\n",
       "...            ...     ...     ...\n",
       "2008-10-12  1.1227  0.7354  0.5760\n",
       "2008-10-05  1.0588  0.7076  0.5579\n",
       "2008-09-28  1.0374  0.6837  0.5418\n",
       "2008-09-21  1.0620  0.6994  0.5538\n",
       "2008-09-14  1.0661  0.7067  0.5656\n",
       "2008-09-07  1.0653  0.6908  0.5602\n",
       "2008-08-31  1.0507  0.6791  0.5439\n",
       "2008-08-24  1.0558  0.6777  0.5365\n",
       "2008-08-17  1.0645  0.6723  0.5292\n",
       "2008-08-10  1.0449  0.6499  0.5126\n",
       "2008-08-03  1.0232  0.6397  0.5042\n",
       "2008-07-27  1.0096  0.6337  0.5013\n",
       "2008-07-20  1.0048  0.6294  0.5007\n",
       "2008-07-13  1.0147  0.6348  0.5053\n",
       "2008-07-06  1.0159  0.6340  0.5025\n",
       "2008-06-29  1.0128  0.6390  0.5056\n",
       "2008-06-22  1.0204  0.6448  0.5096\n",
       "2008-06-15  1.0230  0.6433  0.5105\n",
       "2008-06-08  1.0080  0.6426  0.5087\n",
       "2008-06-01  0.9909  0.6385  0.5053\n",
       "2008-05-25  0.9907  0.6380  0.5082\n",
       "2008-05-18  1.0028  0.6453  0.5126\n",
       "2008-05-11  1.0109  0.6471  0.5094\n",
       "2008-05-04  1.0140  0.6429  0.5050\n",
       "2008-04-27  1.0105  0.6328  0.5034\n",
       "2008-04-20  1.0133  0.6314  0.5053\n",
       "2008-04-13  1.0157  0.6343  0.5054\n",
       "2008-04-06  1.0168  0.6363  0.5027\n",
       "2008-03-30  1.0197  0.6397  0.5013\n",
       "2008-03-23  1.0053  0.6404  0.5004\n",
       "\n",
       "[260 rows x 3 columns]"
      ]
     },
     "execution_count": 19,
     "metadata": {},
     "output_type": "execute_result"
    }
   ],
   "source": [
    "mts[(mts.USD > 0.5)&(mts.EUR < 1)]"
   ]
  },
  {
   "cell_type": "code",
   "execution_count": 20,
   "metadata": {
    "collapsed": false
   },
   "outputs": [
    {
     "data": {
      "text/plain": [
       "date\n",
       "2013-03-10    False\n",
       "2013-03-03    False\n",
       "2013-02-24    False\n",
       "2013-02-17    False\n",
       "2013-02-10    False\n",
       "2013-02-03    False\n",
       "2013-01-27    False\n",
       "2013-01-20    False\n",
       "2013-01-13    False\n",
       "2013-01-06    False\n",
       "2012-12-30    False\n",
       "2012-12-23    False\n",
       "2012-12-16    False\n",
       "2012-12-09    False\n",
       "2012-12-02    False\n",
       "...\n",
       "2008-06-29    False\n",
       "2008-06-22    False\n",
       "2008-06-15    False\n",
       "2008-06-08    False\n",
       "2008-06-01    False\n",
       "2008-05-25    False\n",
       "2008-05-18    False\n",
       "2008-05-11    False\n",
       "2008-05-04    False\n",
       "2008-04-27    False\n",
       "2008-04-20    False\n",
       "2008-04-13    False\n",
       "2008-04-06    False\n",
       "2008-03-30    False\n",
       "2008-03-23    False\n",
       "Length: 260"
      ]
     },
     "execution_count": 20,
     "metadata": {},
     "output_type": "execute_result"
    }
   ],
   "source": [
    "mts.duplicated([\"USD\",\"EUR\"])"
   ]
  },
  {
   "cell_type": "code",
   "execution_count": 21,
   "metadata": {
    "collapsed": false
   },
   "outputs": [
    {
     "data": {
      "text/plain": [
       "price    1478.6\n",
       "dtype: float64"
      ]
     },
     "execution_count": 21,
     "metadata": {},
     "output_type": "execute_result"
    }
   ],
   "source": [
    "#diferencia entre maximo y minimo\n",
    "fun = lambda x: x.max() - x.min()\n",
    "ts.apply(fun)"
   ]
  },
  {
   "cell_type": "code",
   "execution_count": 22,
   "metadata": {
    "collapsed": false
   },
   "outputs": [
    {
     "data": {
      "text/html": [
       "<div style=\"max-height:1000px;max-width:1500px;overflow:auto;\">\n",
       "<table border=\"1\" class=\"dataframe\">\n",
       "  <thead>\n",
       "    <tr style=\"text-align: right;\">\n",
       "      <th></th>\n",
       "      <th>price</th>\n",
       "    </tr>\n",
       "    <tr>\n",
       "      <th>date</th>\n",
       "      <th></th>\n",
       "    </tr>\n",
       "  </thead>\n",
       "  <tbody>\n",
       "    <tr>\n",
       "      <th>2003-04-30</th>\n",
       "      <td>  336.8</td>\n",
       "    </tr>\n",
       "    <tr>\n",
       "      <th>2004-04-30</th>\n",
       "      <td>  388.5</td>\n",
       "    </tr>\n",
       "    <tr>\n",
       "      <th>2005-04-29</th>\n",
       "      <td>  435.7</td>\n",
       "    </tr>\n",
       "    <tr>\n",
       "      <th>2006-04-28</th>\n",
       "      <td>  644.0</td>\n",
       "    </tr>\n",
       "    <tr>\n",
       "      <th>2007-04-30</th>\n",
       "      <td>  677.0</td>\n",
       "    </tr>\n",
       "    <tr>\n",
       "      <th>2008-04-30</th>\n",
       "      <td>  871.0</td>\n",
       "    </tr>\n",
       "    <tr>\n",
       "      <th>2009-04-30</th>\n",
       "      <td>  883.3</td>\n",
       "    </tr>\n",
       "    <tr>\n",
       "      <th>2010-04-30</th>\n",
       "      <td> 1179.3</td>\n",
       "    </tr>\n",
       "    <tr>\n",
       "      <th>2011-04-29</th>\n",
       "      <td> 1535.5</td>\n",
       "    </tr>\n",
       "    <tr>\n",
       "      <th>2012-04-30</th>\n",
       "      <td> 1651.3</td>\n",
       "    </tr>\n",
       "    <tr>\n",
       "      <th>2013-04-30</th>\n",
       "      <td> 1469.0</td>\n",
       "    </tr>\n",
       "  </tbody>\n",
       "</table>\n",
       "</div>"
      ],
      "text/plain": [
       "             price\n",
       "date              \n",
       "2003-04-30   336.8\n",
       "2004-04-30   388.5\n",
       "2005-04-29   435.7\n",
       "2006-04-28   644.0\n",
       "2007-04-30   677.0\n",
       "2008-04-30   871.0\n",
       "2009-04-30   883.3\n",
       "2010-04-30  1179.3\n",
       "2011-04-29  1535.5\n",
       "2012-04-30  1651.3\n",
       "2013-04-30  1469.0"
      ]
     },
     "execution_count": 22,
     "metadata": {},
     "output_type": "execute_result"
    }
   ],
   "source": [
    "ts[(ts.index.month == 4)]"
   ]
  },
  {
   "cell_type": "code",
   "execution_count": 5,
   "metadata": {
    "collapsed": false
   },
   "outputs": [
    {
     "data": {
      "text/plain": [
       "([<matplotlib.patches.Wedge at 0x1078f9c50>,\n",
       "  <matplotlib.patches.Wedge at 0x1079055d0>,\n",
       "  <matplotlib.patches.Wedge at 0x107905f50>,\n",
       "  <matplotlib.patches.Wedge at 0x107919910>],\n",
       " [<matplotlib.text.Text at 0x107905190>,\n",
       "  <matplotlib.text.Text at 0x107905b90>,\n",
       "  <matplotlib.text.Text at 0x107919550>,\n",
       "  <matplotlib.text.Text at 0x107919ed0>])"
      ]
     },
     "execution_count": 5,
     "metadata": {},
     "output_type": "execute_result"
    },
    {
     "data": {
      "image/png": "[encoded data removed]",
      "text/plain": [
       "<matplotlib.figure.Figure at 0x107762bd0>"
      ]
     },
     "metadata": {},
     "output_type": "display_data"
    }
   ],
   "source": [
    "plt.pie(pd.DataFrame([1,3,5,6]))"
   ]
  },
  {
   "cell_type": "code",
   "execution_count": 24,
   "metadata": {
    "collapsed": false
   },
   "outputs": [
    {
     "data": {
      "text/plain": [
       "<matplotlib.axes.AxesSubplot at 0x108374890>"
      ]
     },
     "execution_count": 24,
     "metadata": {},
     "output_type": "execute_result"
    },
    {
     "data": {
      "image/png": "[encoded data removed]",
      "text/plain": [
       "<matplotlib.figure.Figure at 0x10829cfd0>"
      ]
     },
     "metadata": {},
     "output_type": "display_data"
    }
   ],
   "source": [
    "jts = pd.read_json('pokemons.json')\n",
    "jts.plot(kind=\"bar\")"
   ]
  },
  {
   "cell_type": "code",
   "execution_count": 25,
   "metadata": {
    "collapsed": false
   },
   "outputs": [
    {
     "data": {
      "text/plain": [
       "<matplotlib.axes.AxesSubplot at 0x107f48b50>"
      ]
     },
     "execution_count": 25,
     "metadata": {},
     "output_type": "execute_result"
    },
    {
     "data": {
      "image/png": "[encoded data removed]",
      "text/plain": [
       "<matplotlib.figure.Figure at 0x1083cb590>"
      ]
     },
     "metadata": {},
     "output_type": "display_data"
    }
   ],
   "source": [
    "jts.plot(kind=\"area\", stacked=False)"
   ]
  },
  {
   "cell_type": "code",
   "execution_count": 26,
   "metadata": {
    "collapsed": false
   },
   "outputs": [
    {
     "name": "stdout",
     "output_type": "stream",
     "text": [
      "   amount      type\n",
      "0      45       Bug\n",
      "1      16      Dark\n",
      "2      12    Dragon\n",
      "3       7  Electric\n",
      "4       3  Fighting\n"
     ]
    }
   ],
   "source": [
    "print jts.head()"
   ]
  },
  {
   "cell_type": "code",
   "execution_count": 27,
   "metadata": {
    "collapsed": false
   },
   "outputs": [
    {
     "data": {
      "text/plain": [
       "([<matplotlib.patches.Wedge at 0x1091d2510>,\n",
       "  <matplotlib.patches.Wedge at 0x1091d2e90>,\n",
       "  <matplotlib.patches.Wedge at 0x1091df850>,\n",
       "  <matplotlib.patches.Wedge at 0x1091ea210>,\n",
       "  <matplotlib.patches.Wedge at 0x1091eab90>,\n",
       "  <matplotlib.patches.Wedge at 0x1091f6550>,\n",
       "  <matplotlib.patches.Wedge at 0x1091f6ed0>,\n",
       "  <matplotlib.patches.Wedge at 0x109202890>,\n",
       "  <matplotlib.patches.Wedge at 0x10920e250>,\n",
       "  <matplotlib.patches.Wedge at 0x10920ebd0>,\n",
       "  <matplotlib.patches.Wedge at 0x10921a590>,\n",
       "  <matplotlib.patches.Wedge at 0x10921af10>,\n",
       "  <matplotlib.patches.Wedge at 0x1092288d0>,\n",
       "  <matplotlib.patches.Wedge at 0x109233290>,\n",
       "  <matplotlib.patches.Wedge at 0x109233c10>,\n",
       "  <matplotlib.patches.Wedge at 0x10923f5d0>],\n",
       " [<matplotlib.text.Text at 0x1091d2a50>,\n",
       "  <matplotlib.text.Text at 0x1091df490>,\n",
       "  <matplotlib.text.Text at 0x1091dfe10>,\n",
       "  <matplotlib.text.Text at 0x1091ea7d0>,\n",
       "  <matplotlib.text.Text at 0x1091f6190>,\n",
       "  <matplotlib.text.Text at 0x1091f6b10>,\n",
       "  <matplotlib.text.Text at 0x1092024d0>,\n",
       "  <matplotlib.text.Text at 0x109202e50>,\n",
       "  <matplotlib.text.Text at 0x10920e810>,\n",
       "  <matplotlib.text.Text at 0x10921a1d0>,\n",
       "  <matplotlib.text.Text at 0x10921ab50>,\n",
       "  <matplotlib.text.Text at 0x109228510>,\n",
       "  <matplotlib.text.Text at 0x109228e90>,\n",
       "  <matplotlib.text.Text at 0x109233850>,\n",
       "  <matplotlib.text.Text at 0x10923f210>,\n",
       "  <matplotlib.text.Text at 0x10923fb90>])"
      ]
     },
     "execution_count": 27,
     "metadata": {},
     "output_type": "execute_result"
    },
    {
     "data": {
      "image/png": "[encoded data removed]",
      "text/plain": [
       "<matplotlib.figure.Figure at 0x1090e7350>"
      ]
     },
     "metadata": {},
     "output_type": "display_data"
    }
   ],
   "source": [
    "plt.pie(jts[\"amount\"], labels = jts[\"type\"])"
   ]
  },
  {
   "cell_type": "code",
   "execution_count": 28,
   "metadata": {
    "collapsed": false
   },
   "outputs": [
    {
     "data": {
      "text/html": [
       "<div style=\"max-height:1000px;max-width:1500px;overflow:auto;\">\n",
       "<table border=\"1\" class=\"dataframe\">\n",
       "  <thead>\n",
       "    <tr style=\"text-align: right;\">\n",
       "      <th></th>\n",
       "      <th>SepalLength</th>\n",
       "      <th>SepalWidth</th>\n",
       "      <th>PetalLength</th>\n",
       "      <th>PetalWidth</th>\n",
       "    </tr>\n",
       "  </thead>\n",
       "  <tbody>\n",
       "    <tr>\n",
       "      <th>count</th>\n",
       "      <td> 150.000000</td>\n",
       "      <td> 150.000000</td>\n",
       "      <td> 150.000000</td>\n",
       "      <td> 150.000000</td>\n",
       "    </tr>\n",
       "    <tr>\n",
       "      <th>mean</th>\n",
       "      <td>   5.843333</td>\n",
       "      <td>   3.057333</td>\n",
       "      <td>   3.758000</td>\n",
       "      <td>   1.199333</td>\n",
       "    </tr>\n",
       "    <tr>\n",
       "      <th>std</th>\n",
       "      <td>   0.828066</td>\n",
       "      <td>   0.435866</td>\n",
       "      <td>   1.765298</td>\n",
       "      <td>   0.762238</td>\n",
       "    </tr>\n",
       "    <tr>\n",
       "      <th>min</th>\n",
       "      <td>   4.300000</td>\n",
       "      <td>   2.000000</td>\n",
       "      <td>   1.000000</td>\n",
       "      <td>   0.100000</td>\n",
       "    </tr>\n",
       "    <tr>\n",
       "      <th>25%</th>\n",
       "      <td>   5.100000</td>\n",
       "      <td>   2.800000</td>\n",
       "      <td>   1.600000</td>\n",
       "      <td>   0.300000</td>\n",
       "    </tr>\n",
       "    <tr>\n",
       "      <th>50%</th>\n",
       "      <td>   5.800000</td>\n",
       "      <td>   3.000000</td>\n",
       "      <td>   4.350000</td>\n",
       "      <td>   1.300000</td>\n",
       "    </tr>\n",
       "    <tr>\n",
       "      <th>75%</th>\n",
       "      <td>   6.400000</td>\n",
       "      <td>   3.300000</td>\n",
       "      <td>   5.100000</td>\n",
       "      <td>   1.800000</td>\n",
       "    </tr>\n",
       "    <tr>\n",
       "      <th>max</th>\n",
       "      <td>   7.900000</td>\n",
       "      <td>   4.400000</td>\n",
       "      <td>   6.900000</td>\n",
       "      <td>   2.500000</td>\n",
       "    </tr>\n",
       "  </tbody>\n",
       "</table>\n",
       "</div>"
      ],
      "text/plain": [
       "       SepalLength  SepalWidth  PetalLength  PetalWidth\n",
       "count   150.000000  150.000000   150.000000  150.000000\n",
       "mean      5.843333    3.057333     3.758000    1.199333\n",
       "std       0.828066    0.435866     1.765298    0.762238\n",
       "min       4.300000    2.000000     1.000000    0.100000\n",
       "25%       5.100000    2.800000     1.600000    0.300000\n",
       "50%       5.800000    3.000000     4.350000    1.300000\n",
       "75%       6.400000    3.300000     5.100000    1.800000\n",
       "max       7.900000    4.400000     6.900000    2.500000"
      ]
     },
     "execution_count": 28,
     "metadata": {},
     "output_type": "execute_result"
    }
   ],
   "source": [
    "iris = pd.read_csv(\"iris.csv\")\n",
    "iris.describe()"
   ]
  },
  {
   "cell_type": "code",
   "execution_count": 30,
   "metadata": {
    "collapsed": false
   },
   "outputs": [
    {
     "data": {
      "text/plain": [
       "<matplotlib.axes.AxesSubplot at 0x1093e0610>"
      ]
     },
     "execution_count": 30,
     "metadata": {},
     "output_type": "execute_result"
    },
    {
     "data": {
      "image/png": "[encoded data removed]",
      "text/plain": [
       "<matplotlib.figure.Figure at 0x1093c9e10>"
      ]
     },
     "metadata": {},
     "output_type": "display_data"
    }
   ],
   "source": [
    "pd.tools.plotting.radviz(iris, \"name\")"
   ]
  },
  {
   "cell_type": "code",
   "execution_count": 33,
   "metadata": {
    "collapsed": false
   },
   "outputs": [
    {
     "data": {
      "text/plain": [
       "<matplotlib.axes.AxesSubplot at 0x10a734a10>"
      ]
     },
     "execution_count": 33,
     "metadata": {},
     "output_type": "execute_result"
    },
    {
     "data": {
      "image/png": "[encoded data removed]",
      "text/plain": [
       "<matplotlib.figure.Figure at 0x107f9a890>"
      ]
     },
     "metadata": {},
     "output_type": "display_data"
    }
   ],
   "source": [
    "pd.tools.plotting.andrews_curves(iris, \"name\", colormap=\"winter\")\n",
    "#gist_rainbow "
   ]
  },
  {
   "cell_type": "code",
   "execution_count": 34,
   "metadata": {
    "collapsed": false
   },
   "outputs": [
    {
     "data": {
      "text/html": [
       "<div style=\"max-height:1000px;max-width:1500px;overflow:auto;\">\n",
       "<table border=\"1\" class=\"dataframe\">\n",
       "  <thead>\n",
       "    <tr style=\"text-align: right;\">\n",
       "      <th></th>\n",
       "      <th></th>\n",
       "      <th>PetalLength</th>\n",
       "      <th>PetalWidth</th>\n",
       "      <th>SepalLength</th>\n",
       "      <th>SepalWidth</th>\n",
       "    </tr>\n",
       "    <tr>\n",
       "      <th>name</th>\n",
       "      <th></th>\n",
       "      <th></th>\n",
       "      <th></th>\n",
       "      <th></th>\n",
       "      <th></th>\n",
       "    </tr>\n",
       "  </thead>\n",
       "  <tbody>\n",
       "    <tr>\n",
       "      <th rowspan=\"8\" valign=\"top\">setosa</th>\n",
       "      <th>count</th>\n",
       "      <td> 50.000000</td>\n",
       "      <td> 50.000000</td>\n",
       "      <td> 50.000000</td>\n",
       "      <td> 50.000000</td>\n",
       "    </tr>\n",
       "    <tr>\n",
       "      <th>mean</th>\n",
       "      <td>  1.462000</td>\n",
       "      <td>  0.246000</td>\n",
       "      <td>  5.006000</td>\n",
       "      <td>  3.428000</td>\n",
       "    </tr>\n",
       "    <tr>\n",
       "      <th>std</th>\n",
       "      <td>  0.173664</td>\n",
       "      <td>  0.105386</td>\n",
       "      <td>  0.352490</td>\n",
       "      <td>  0.379064</td>\n",
       "    </tr>\n",
       "    <tr>\n",
       "      <th>min</th>\n",
       "      <td>  1.000000</td>\n",
       "      <td>  0.100000</td>\n",
       "      <td>  4.300000</td>\n",
       "      <td>  2.300000</td>\n",
       "    </tr>\n",
       "    <tr>\n",
       "      <th>25%</th>\n",
       "      <td>  1.400000</td>\n",
       "      <td>  0.200000</td>\n",
       "      <td>  4.800000</td>\n",
       "      <td>  3.200000</td>\n",
       "    </tr>\n",
       "    <tr>\n",
       "      <th>50%</th>\n",
       "      <td>  1.500000</td>\n",
       "      <td>  0.200000</td>\n",
       "      <td>  5.000000</td>\n",
       "      <td>  3.400000</td>\n",
       "    </tr>\n",
       "    <tr>\n",
       "      <th>75%</th>\n",
       "      <td>  1.575000</td>\n",
       "      <td>  0.300000</td>\n",
       "      <td>  5.200000</td>\n",
       "      <td>  3.675000</td>\n",
       "    </tr>\n",
       "    <tr>\n",
       "      <th>max</th>\n",
       "      <td>  1.900000</td>\n",
       "      <td>  0.600000</td>\n",
       "      <td>  5.800000</td>\n",
       "      <td>  4.400000</td>\n",
       "    </tr>\n",
       "    <tr>\n",
       "      <th rowspan=\"8\" valign=\"top\">versicolor</th>\n",
       "      <th>count</th>\n",
       "      <td> 50.000000</td>\n",
       "      <td> 50.000000</td>\n",
       "      <td> 50.000000</td>\n",
       "      <td> 50.000000</td>\n",
       "    </tr>\n",
       "    <tr>\n",
       "      <th>mean</th>\n",
       "      <td>  4.260000</td>\n",
       "      <td>  1.326000</td>\n",
       "      <td>  5.936000</td>\n",
       "      <td>  2.770000</td>\n",
       "    </tr>\n",
       "    <tr>\n",
       "      <th>std</th>\n",
       "      <td>  0.469911</td>\n",
       "      <td>  0.197753</td>\n",
       "      <td>  0.516171</td>\n",
       "      <td>  0.313798</td>\n",
       "    </tr>\n",
       "    <tr>\n",
       "      <th>min</th>\n",
       "      <td>  3.000000</td>\n",
       "      <td>  1.000000</td>\n",
       "      <td>  4.900000</td>\n",
       "      <td>  2.000000</td>\n",
       "    </tr>\n",
       "    <tr>\n",
       "      <th>25%</th>\n",
       "      <td>  4.000000</td>\n",
       "      <td>  1.200000</td>\n",
       "      <td>  5.600000</td>\n",
       "      <td>  2.525000</td>\n",
       "    </tr>\n",
       "    <tr>\n",
       "      <th>50%</th>\n",
       "      <td>  4.350000</td>\n",
       "      <td>  1.300000</td>\n",
       "      <td>  5.900000</td>\n",
       "      <td>  2.800000</td>\n",
       "    </tr>\n",
       "    <tr>\n",
       "      <th>75%</th>\n",
       "      <td>  4.600000</td>\n",
       "      <td>  1.500000</td>\n",
       "      <td>  6.300000</td>\n",
       "      <td>  3.000000</td>\n",
       "    </tr>\n",
       "    <tr>\n",
       "      <th>max</th>\n",
       "      <td>  5.100000</td>\n",
       "      <td>  1.800000</td>\n",
       "      <td>  7.000000</td>\n",
       "      <td>  3.400000</td>\n",
       "    </tr>\n",
       "    <tr>\n",
       "      <th rowspan=\"8\" valign=\"top\">virginica</th>\n",
       "      <th>count</th>\n",
       "      <td> 50.000000</td>\n",
       "      <td> 50.000000</td>\n",
       "      <td> 50.000000</td>\n",
       "      <td> 50.000000</td>\n",
       "    </tr>\n",
       "    <tr>\n",
       "      <th>mean</th>\n",
       "      <td>  5.552000</td>\n",
       "      <td>  2.026000</td>\n",
       "      <td>  6.588000</td>\n",
       "      <td>  2.974000</td>\n",
       "    </tr>\n",
       "    <tr>\n",
       "      <th>std</th>\n",
       "      <td>  0.551895</td>\n",
       "      <td>  0.274650</td>\n",
       "      <td>  0.635880</td>\n",
       "      <td>  0.322497</td>\n",
       "    </tr>\n",
       "    <tr>\n",
       "      <th>min</th>\n",
       "      <td>  4.500000</td>\n",
       "      <td>  1.400000</td>\n",
       "      <td>  4.900000</td>\n",
       "      <td>  2.200000</td>\n",
       "    </tr>\n",
       "    <tr>\n",
       "      <th>25%</th>\n",
       "      <td>  5.100000</td>\n",
       "      <td>  1.800000</td>\n",
       "      <td>  6.225000</td>\n",
       "      <td>  2.800000</td>\n",
       "    </tr>\n",
       "    <tr>\n",
       "      <th>50%</th>\n",
       "      <td>  5.550000</td>\n",
       "      <td>  2.000000</td>\n",
       "      <td>  6.500000</td>\n",
       "      <td>  3.000000</td>\n",
       "    </tr>\n",
       "    <tr>\n",
       "      <th>75%</th>\n",
       "      <td>  5.875000</td>\n",
       "      <td>  2.300000</td>\n",
       "      <td>  6.900000</td>\n",
       "      <td>  3.175000</td>\n",
       "    </tr>\n",
       "    <tr>\n",
       "      <th>max</th>\n",
       "      <td>  6.900000</td>\n",
       "      <td>  2.500000</td>\n",
       "      <td>  7.900000</td>\n",
       "      <td>  3.800000</td>\n",
       "    </tr>\n",
       "  </tbody>\n",
       "</table>\n",
       "</div>"
      ],
      "text/plain": [
       "                  PetalLength  PetalWidth  SepalLength  SepalWidth\n",
       "name                                                              \n",
       "setosa     count    50.000000   50.000000    50.000000   50.000000\n",
       "           mean      1.462000    0.246000     5.006000    3.428000\n",
       "           std       0.173664    0.105386     0.352490    0.379064\n",
       "           min       1.000000    0.100000     4.300000    2.300000\n",
       "           25%       1.400000    0.200000     4.800000    3.200000\n",
       "           50%       1.500000    0.200000     5.000000    3.400000\n",
       "           75%       1.575000    0.300000     5.200000    3.675000\n",
       "           max       1.900000    0.600000     5.800000    4.400000\n",
       "versicolor count    50.000000   50.000000    50.000000   50.000000\n",
       "           mean      4.260000    1.326000     5.936000    2.770000\n",
       "           std       0.469911    0.197753     0.516171    0.313798\n",
       "           min       3.000000    1.000000     4.900000    2.000000\n",
       "           25%       4.000000    1.200000     5.600000    2.525000\n",
       "           50%       4.350000    1.300000     5.900000    2.800000\n",
       "           75%       4.600000    1.500000     6.300000    3.000000\n",
       "           max       5.100000    1.800000     7.000000    3.400000\n",
       "virginica  count    50.000000   50.000000    50.000000   50.000000\n",
       "           mean      5.552000    2.026000     6.588000    2.974000\n",
       "           std       0.551895    0.274650     0.635880    0.322497\n",
       "           min       4.500000    1.400000     4.900000    2.200000\n",
       "           25%       5.100000    1.800000     6.225000    2.800000\n",
       "           50%       5.550000    2.000000     6.500000    3.000000\n",
       "           75%       5.875000    2.300000     6.900000    3.175000\n",
       "           max       6.900000    2.500000     7.900000    3.800000"
      ]
     },
     "execution_count": 34,
     "metadata": {},
     "output_type": "execute_result"
    }
   ],
   "source": [
    "iris.groupby(\"name\").describe()"
   ]
  },
  {
   "cell_type": "code",
   "execution_count": 35,
   "metadata": {
    "collapsed": false
   },
   "outputs": [
    {
     "data": {
      "text/html": [
       "<div style=\"max-height:1000px;max-width:1500px;overflow:auto;\">\n",
       "<table border=\"1\" class=\"dataframe\">\n",
       "  <thead>\n",
       "    <tr style=\"text-align: right;\">\n",
       "      <th></th>\n",
       "      <th>SepalLength</th>\n",
       "      <th>SepalWidth</th>\n",
       "      <th>PetalLength</th>\n",
       "      <th>PetalWidth</th>\n",
       "    </tr>\n",
       "    <tr>\n",
       "      <th>name</th>\n",
       "      <th></th>\n",
       "      <th></th>\n",
       "      <th></th>\n",
       "      <th></th>\n",
       "    </tr>\n",
       "  </thead>\n",
       "  <tbody>\n",
       "    <tr>\n",
       "      <th>setosa</th>\n",
       "      <td> 5.8</td>\n",
       "      <td> 4.4</td>\n",
       "      <td> 1.9</td>\n",
       "      <td> 0.6</td>\n",
       "    </tr>\n",
       "    <tr>\n",
       "      <th>versicolor</th>\n",
       "      <td> 7.0</td>\n",
       "      <td> 3.4</td>\n",
       "      <td> 5.1</td>\n",
       "      <td> 1.8</td>\n",
       "    </tr>\n",
       "    <tr>\n",
       "      <th>virginica</th>\n",
       "      <td> 7.9</td>\n",
       "      <td> 3.8</td>\n",
       "      <td> 6.9</td>\n",
       "      <td> 2.5</td>\n",
       "    </tr>\n",
       "  </tbody>\n",
       "</table>\n",
       "</div>"
      ],
      "text/plain": [
       "            SepalLength  SepalWidth  PetalLength  PetalWidth\n",
       "name                                                        \n",
       "setosa              5.8         4.4          1.9         0.6\n",
       "versicolor          7.0         3.4          5.1         1.8\n",
       "virginica           7.9         3.8          6.9         2.5"
      ]
     },
     "execution_count": 35,
     "metadata": {},
     "output_type": "execute_result"
    }
   ],
   "source": [
    "iris.groupby(\"name\").max()"
   ]
  },
  {
   "cell_type": "code",
   "execution_count": 36,
   "metadata": {
    "collapsed": false
   },
   "outputs": [
    {
     "data": {
      "text/html": [
       "<div style=\"max-height:1000px;max-width:1500px;overflow:auto;\">\n",
       "<table border=\"1\" class=\"dataframe\">\n",
       "  <thead>\n",
       "    <tr style=\"text-align: right;\">\n",
       "      <th></th>\n",
       "      <th>SepalLength</th>\n",
       "      <th>SepalWidth</th>\n",
       "      <th>PetalLength</th>\n",
       "      <th>PetalWidth</th>\n",
       "    </tr>\n",
       "  </thead>\n",
       "  <tbody>\n",
       "    <tr>\n",
       "      <th>SepalLength</th>\n",
       "      <td> 1.000000</td>\n",
       "      <td>-0.117570</td>\n",
       "      <td> 0.871754</td>\n",
       "      <td> 0.817941</td>\n",
       "    </tr>\n",
       "    <tr>\n",
       "      <th>SepalWidth</th>\n",
       "      <td>-0.117570</td>\n",
       "      <td> 1.000000</td>\n",
       "      <td>-0.428440</td>\n",
       "      <td>-0.366126</td>\n",
       "    </tr>\n",
       "    <tr>\n",
       "      <th>PetalLength</th>\n",
       "      <td> 0.871754</td>\n",
       "      <td>-0.428440</td>\n",
       "      <td> 1.000000</td>\n",
       "      <td> 0.962865</td>\n",
       "    </tr>\n",
       "    <tr>\n",
       "      <th>PetalWidth</th>\n",
       "      <td> 0.817941</td>\n",
       "      <td>-0.366126</td>\n",
       "      <td> 0.962865</td>\n",
       "      <td> 1.000000</td>\n",
       "    </tr>\n",
       "  </tbody>\n",
       "</table>\n",
       "</div>"
      ],
      "text/plain": [
       "             SepalLength  SepalWidth  PetalLength  PetalWidth\n",
       "SepalLength     1.000000   -0.117570     0.871754    0.817941\n",
       "SepalWidth     -0.117570    1.000000    -0.428440   -0.366126\n",
       "PetalLength     0.871754   -0.428440     1.000000    0.962865\n",
       "PetalWidth      0.817941   -0.366126     0.962865    1.000000"
      ]
     },
     "execution_count": 36,
     "metadata": {},
     "output_type": "execute_result"
    }
   ],
   "source": [
    "iris.corr()"
   ]
  },
  {
   "cell_type": "code",
   "execution_count": 37,
   "metadata": {
    "collapsed": false
   },
   "outputs": [
    {
     "data": {
      "text/plain": [
       "0.87175377588658309"
      ]
     },
     "execution_count": 37,
     "metadata": {},
     "output_type": "execute_result"
    }
   ],
   "source": [
    "iris[\"SepalLength\"].corr(iris[\"PetalLength\"])"
   ]
  },
  {
   "cell_type": "code",
   "execution_count": 38,
   "metadata": {
    "collapsed": false
   },
   "outputs": [
    {
     "data": {
      "text/plain": [
       "<matplotlib.axes.AxesSubplot at 0x10ad5c690>"
      ]
     },
     "execution_count": 38,
     "metadata": {},
     "output_type": "execute_result"
    },
    {
     "data": {
      "image/png": "[encoded data removed]",
      "text/plain": [
       "<matplotlib.figure.Figure at 0x1094cf310>"
      ]
     },
     "metadata": {},
     "output_type": "display_data"
    }
   ],
   "source": [
    "iris[:10].plot(kind=\"bar\", colormap=\"Greens\")"
   ]
  },
  {
   "cell_type": "code",
   "execution_count": 39,
   "metadata": {
    "collapsed": false
   },
   "outputs": [
    {
     "data": {
      "text/plain": [
       "[<matplotlib.lines.Line2D at 0x10b993790>]"
      ]
     },
     "execution_count": 39,
     "metadata": {},
     "output_type": "execute_result"
    },
    {
     "data": {
      "image/png": "[encoded data removed]",
      "text/plain": [
       "<matplotlib.figure.Figure at 0x10b8a4310>"
      ]
     },
     "metadata": {},
     "output_type": "display_data"
    }
   ],
   "source": [
    "#scaterplot\n",
    "n = 100\n",
    "X = np.random.normal(0,1,n)\n",
    "Y = np.random.normal(0,1,n)\n",
    "\n",
    "plt.plot(X,Y,\"ro\", color = \"blue\")"
   ]
  },
  {
   "cell_type": "code",
   "execution_count": 40,
   "metadata": {
    "collapsed": false
   },
   "outputs": [
    {
     "data": {
      "text/html": [
       "<div style=\"max-height:1000px;max-width:1500px;overflow:auto;\">\n",
       "<table border=\"1\" class=\"dataframe\">\n",
       "  <thead>\n",
       "    <tr style=\"text-align: right;\">\n",
       "      <th></th>\n",
       "      <th>size</th>\n",
       "      <th>land</th>\n",
       "      <th>rooms</th>\n",
       "      <th>granite</th>\n",
       "      <th>extra_bathroom</th>\n",
       "      <th>price</th>\n",
       "    </tr>\n",
       "  </thead>\n",
       "  <tbody>\n",
       "    <tr>\n",
       "      <th>0</th>\n",
       "      <td> 1076</td>\n",
       "      <td> 2801</td>\n",
       "      <td> 6</td>\n",
       "      <td> 0</td>\n",
       "      <td> 0</td>\n",
       "      <td> 324500</td>\n",
       "    </tr>\n",
       "    <tr>\n",
       "      <th>1</th>\n",
       "      <td>  990</td>\n",
       "      <td> 3067</td>\n",
       "      <td> 5</td>\n",
       "      <td> 1</td>\n",
       "      <td> 1</td>\n",
       "      <td> 466000</td>\n",
       "    </tr>\n",
       "    <tr>\n",
       "      <th>2</th>\n",
       "      <td> 1229</td>\n",
       "      <td> 3094</td>\n",
       "      <td> 5</td>\n",
       "      <td> 0</td>\n",
       "      <td> 1</td>\n",
       "      <td> 425900</td>\n",
       "    </tr>\n",
       "    <tr>\n",
       "      <th>3</th>\n",
       "      <td>  731</td>\n",
       "      <td> 4315</td>\n",
       "      <td> 4</td>\n",
       "      <td> 1</td>\n",
       "      <td> 0</td>\n",
       "      <td> 387120</td>\n",
       "    </tr>\n",
       "    <tr>\n",
       "      <th>4</th>\n",
       "      <td>  671</td>\n",
       "      <td> 2926</td>\n",
       "      <td> 4</td>\n",
       "      <td> 0</td>\n",
       "      <td> 1</td>\n",
       "      <td> 312100</td>\n",
       "    </tr>\n",
       "    <tr>\n",
       "      <th>5</th>\n",
       "      <td> 1078</td>\n",
       "      <td> 6094</td>\n",
       "      <td> 6</td>\n",
       "      <td> 1</td>\n",
       "      <td> 1</td>\n",
       "      <td> 603000</td>\n",
       "    </tr>\n",
       "    <tr>\n",
       "      <th>6</th>\n",
       "      <td>  909</td>\n",
       "      <td> 2854</td>\n",
       "      <td> 5</td>\n",
       "      <td> 0</td>\n",
       "      <td> 1</td>\n",
       "      <td> 383400</td>\n",
       "    </tr>\n",
       "  </tbody>\n",
       "</table>\n",
       "</div>"
      ],
      "text/plain": [
       "   size  land  rooms  granite  extra_bathroom   price\n",
       "0  1076  2801      6        0               0  324500\n",
       "1   990  3067      5        1               1  466000\n",
       "2  1229  3094      5        0               1  425900\n",
       "3   731  4315      4        1               0  387120\n",
       "4   671  2926      4        0               1  312100\n",
       "5  1078  6094      6        1               1  603000\n",
       "6   909  2854      5        0               1  383400"
      ]
     },
     "execution_count": 40,
     "metadata": {},
     "output_type": "execute_result"
    }
   ],
   "source": [
    "casa = pd.read_csv(\"house.csv\")\n",
    "casa"
   ]
  },
  {
   "cell_type": "code",
   "execution_count": 41,
   "metadata": {
    "collapsed": false
   },
   "outputs": [
    {
     "data": {
      "text/plain": [
       "[<matplotlib.lines.Line2D at 0x10ba93a90>]"
      ]
     },
     "execution_count": 41,
     "metadata": {},
     "output_type": "execute_result"
    },
    {
     "data": {
      "image/png": "[encoded data removed]",
      "text/plain": [
       "<matplotlib.figure.Figure at 0x10b8ff2d0>"
      ]
     },
     "metadata": {},
     "output_type": "display_data"
    }
   ],
   "source": [
    "plt.plot(casa[\"size\"],casa[\"price\"],\"ro\", color = \"blue\")"
   ]
  },
  {
   "cell_type": "code",
   "execution_count": null,
   "metadata": {
    "collapsed": true
   },
   "outputs": [],
   "source": []
  }
 ],
 "metadata": {
  "kernelspec": {
   "display_name": "Python 2",
   "language": "python",
   "name": "python2"
  },
  "language_info": {
   "codemirror_mode": {
    "name": "ipython",
    "version": 2
   },
   "file_extension": ".py",
   "mimetype": "text/x-python",
   "name": "python",
   "nbconvert_exporter": "python",
   "pygments_lexer": "ipython2",
   "version": "2.7.10"
  }
 },
 "nbformat": 4,
 "nbformat_minor": 0
}
